{
 "cells": [
  {
   "cell_type": "code",
   "execution_count": 1,
   "metadata": {},
   "outputs": [],
   "source": [
    "import pandas as pd\n",
    "import sys\n",
    "from sklearn.pipeline import Pipeline\n",
    "import numpy as np\n",
    "import string\n",
    "import os\n",
    "from sklearn.model_selection import cross_validate\n",
    "from sklearn.ensemble import RandomForestRegressor\n",
    "from sklearn.model_selection import GridSearchCV\n",
    "\n",
    "from tsfresh import extract_features\n",
    "from tsfresh import select_features\n",
    "from tsfresh.utilities.dataframe_functions import impute\n"
   ]
  },
  {
   "cell_type": "code",
   "execution_count": 2,
   "metadata": {},
   "outputs": [],
   "source": [
    "os.path.abspath('..')\n",
    "sys.path.append(os.path.abspath('..'))\n"
   ]
  },
  {
   "cell_type": "code",
   "execution_count": 3,
   "metadata": {},
   "outputs": [
    {
     "data": {
      "text/plain": [
       "<module 'searcher_results_orgenizer' from 'c:\\\\Users\\\\Bina4\\\\Desktop\\\\Guy_hafifa\\\\scrabble\\\\searcher_results_orgenizer.py'>"
      ]
     },
     "execution_count": 3,
     "metadata": {},
     "output_type": "execute_result"
    }
   ],
   "source": [
    "import importlib\n",
    "\n",
    "\n",
    "import board_helpers\n",
    "from board_helpers.move_info import MoveInfo\n",
    "from board_helpers.tiles_counter import TilesCoutner\n",
    "from board_helpers.board_consts import TileType\n",
    "importlib.reload(board_helpers)\n",
    "importlib.reload(board_helpers.move_info)\n",
    "importlib.reload(board_helpers.tiles_counter)\n",
    "importlib.reload(board_helpers.board_consts)\n",
    "\n",
    "\n",
    "\n",
    "import transformers\n",
    "from transformers.columns_setter_transformer import ColumnsSetterTransformer\n",
    "from transformers.extract_set_column_transformer import ExtractSetColumnsTransformer\n",
    "from transformers.name_dropper_transformer import NameDropperTransformer\n",
    "from transformers.select_transformer import SelectTransformer\n",
    "from transformers.select_rows_transformer import SelectRowsTransformer\n",
    "from transformers.series_from_group_transformer import SeriesFromGroupTransformer\n",
    "from transformers.map_set_transformer import MapSetTransformer\n",
    "from transformers.one_hot_encoder_transformer import OneHotEncoderTransformer\n",
    "from transformers.add_to_dict_transformer import AddToDictTransformer\n",
    "from transformers.get_from_dict_transformer import GetFromDictTransformer\n",
    "from transformers.select_pos_rows_transformer import SelectPosRowsTransformer\n",
    "importlib.reload(transformers)\n",
    "importlib.reload(transformers.columns_setter_transformer)\n",
    "importlib.reload(transformers.extract_set_column_transformer)\n",
    "importlib.reload(transformers.name_dropper_transformer)\n",
    "importlib.reload(transformers.select_transformer)\n",
    "importlib.reload(transformers.select_rows_transformer)\n",
    "importlib.reload(transformers.series_from_group_transformer)\n",
    "importlib.reload(transformers.map_set_transformer)\n",
    "importlib.reload(transformers.one_hot_encoder_transformer)\n",
    "importlib.reload(transformers.add_to_dict_transformer)\n",
    "importlib.reload(transformers.get_from_dict_transformer)\n",
    "importlib.reload(transformers.select_pos_rows_transformer)\n",
    "\n",
    "import functions\n",
    "from functions.bot_extractor import BotExtarctor\n",
    "from functions.is_bot_extractor import IsBotExtarctor\n",
    "importlib.reload(functions)\n",
    "importlib.reload(functions.is_bot_extractor)\n",
    "importlib.reload(functions.bot_extractor)\n",
    "\n",
    "import processors\n",
    "from processors.basic_pre_processor import BasicPreProcessor\n",
    "importlib.reload(processors)\n",
    "importlib.reload(processors.basic_pre_processor)\n",
    "\n",
    "import builders\n",
    "from builders.preprocessor_builder import PreprocessorBuilder\n",
    "from builders.reg_pipe_builder import RegPipeBuilder\n",
    "importlib.reload(builders)\n",
    "importlib.reload(builders.preprocessor_builder)\n",
    "importlib.reload(builders.reg_pipe_builder)\n",
    "\n",
    "import searcher\n",
    "import searcher_results_orgenizer\n",
    "from searcher import Searcher\n",
    "from searcher_results_orgenizer import SearcherResultsOrgenizer\n",
    "importlib.reload(searcher)\n",
    "importlib.reload(searcher_results_orgenizer)\n",
    "\n",
    "\n",
    "\n",
    "\n",
    "\n"
   ]
  },
  {
   "cell_type": "code",
   "execution_count": 5,
   "metadata": {},
   "outputs": [],
   "source": [
    "t_turns = pd.read_csv('../data/t_turns.csv')"
   ]
  },
  {
   "cell_type": "code",
   "execution_count": null,
   "metadata": {},
   "outputs": [],
   "source": [
    "extracted_features = extract_features(t_turns, column_id=\"game_id\", column_sort=\"turn_number\", n_jobs=0)"
   ]
  },
  {
   "cell_type": "code",
   "execution_count": null,
   "metadata": {},
   "outputs": [],
   "source": [
    "extracted_features.to_csv('../data/extracted_features_turns.csv', index_label='game_id')"
   ]
  },
  {
   "cell_type": "code",
   "execution_count": null,
   "metadata": {},
   "outputs": [],
   "source": [
    "games = pd.read_csv('../data/games.csv', index_col='game_id')\n",
    "train = pd.read_csv('../data/train.csv', index_col='game_id')\n",
    "turns = pd.read_csv('../data/extracted_features_turns.csv', index_col='game_id')"
   ]
  },
  {
   "cell_type": "code",
   "execution_count": null,
   "metadata": {},
   "outputs": [],
   "source": [
    "G_NAME = 'games'\n",
    "T_NAME = 'turns'\n",
    "DATA_NAME = 'train'\n",
    "\n",
    "names = ['BetterBot', 'STEEBot', 'HastyBot']\n",
    "\n",
    "prePipe = Pipeline([('get_relavent_turns', SelectRowsTransformer(train.index, target=T_NAME)),\n",
    "                     ('get_relavent_games',  SelectRowsTransformer(train.index.unique(), target=G_NAME)),\n",
    "                     ('train_set_is_player', ExtractSetColumnsTransformer({'is_player': IsBotExtarctor(names, 'nickname', True)},\n",
    "                                                                           src=DATA_NAME, dest=DATA_NAME)),\n",
    "                     ('get_bot_rating', ExtractSetColumnsTransformer({'bot_rating': lambda train: train[~train['is_player']]['rating']},\n",
    "                                                                      src=DATA_NAME, dest=G_NAME)),\n",
    "                     ('get_bots_names', ExtractSetColumnsTransformer({'bot_name': lambda train: train[~train['is_player']]['nickname']},\n",
    "                                                                     src=DATA_NAME, dest=G_NAME)),\n",
    "                    ('data_drop_bot_rating', SelectPosRowsTransformer('is_player', target=DATA_NAME)),\n",
    "                    ])"
   ]
  },
  {
   "cell_type": "code",
   "execution_count": null,
   "metadata": {},
   "outputs": [],
   "source": [
    "preprocessor = PreprocessorBuilder(games, G_NAME, turns, T_NAME, prePipe).build()\n",
    "n_games, n_turns, n_ratings = preprocessor.process(train, DATA_NAME)"
   ]
  },
  {
   "cell_type": "code",
   "execution_count": null,
   "metadata": {},
   "outputs": [],
   "source": [
    "impute(extracted_features)\n",
    "features_filtered = select_features(n_turns, n_ratings, n_jobs=0)"
   ]
  },
  {
   "cell_type": "code",
   "execution_count": null,
   "metadata": {},
   "outputs": [],
   "source": [
    "features_filtered.to_csv('../data/features_filtered.csv', index_label='game_id')"
   ]
  }
 ],
 "metadata": {
  "kernelspec": {
   "display_name": "venv",
   "language": "python",
   "name": "python3"
  },
  "language_info": {
   "codemirror_mode": {
    "name": "ipython",
    "version": 3
   },
   "file_extension": ".py",
   "mimetype": "text/x-python",
   "name": "python",
   "nbconvert_exporter": "python",
   "pygments_lexer": "ipython3",
   "version": "3.8.4"
  },
  "orig_nbformat": 4
 },
 "nbformat": 4,
 "nbformat_minor": 2
}
