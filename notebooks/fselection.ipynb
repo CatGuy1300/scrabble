{
 "cells": [
  {
   "cell_type": "code",
   "execution_count": 58,
   "metadata": {},
   "outputs": [],
   "source": [
    "import pandas as pd\n",
    "import sys\n",
    "from sklearn.pipeline import Pipeline\n",
    "import numpy as np\n",
    "import string\n",
    "import os\n",
    "from sklearn.model_selection import cross_validate\n",
    "from sklearn.ensemble import RandomForestRegressor\n",
    "from sklearn.model_selection import GridSearchCV\n",
    "from sklearn.feature_selection import SelectFromModel\n",
    "\n",
    "\n",
    "from xgboost import XGBRegressor"
   ]
  },
  {
   "cell_type": "code",
   "execution_count": 2,
   "metadata": {},
   "outputs": [],
   "source": [
    "os.path.abspath('..')\n",
    "sys.path.append(os.path.abspath('..'))\n"
   ]
  },
  {
   "cell_type": "code",
   "execution_count": 93,
   "metadata": {},
   "outputs": [
    {
     "data": {
      "text/plain": [
       "<module 'searcher_results_orgenizer' from 'c:\\\\Users\\\\Bina4\\\\Desktop\\\\Guy_hafifa\\\\scrabble\\\\searcher_results_orgenizer.py'>"
      ]
     },
     "execution_count": 93,
     "metadata": {},
     "output_type": "execute_result"
    }
   ],
   "source": [
    "import importlib\n",
    "\n",
    "\n",
    "import board_helpers\n",
    "from board_helpers.move_info import MoveInfo\n",
    "from board_helpers.tiles_counter import TilesCoutner\n",
    "from board_helpers.board_consts import TileType\n",
    "importlib.reload(board_helpers)\n",
    "importlib.reload(board_helpers.move_info)\n",
    "importlib.reload(board_helpers.tiles_counter)\n",
    "importlib.reload(board_helpers.board_consts)\n",
    "\n",
    "\n",
    "\n",
    "import transformers\n",
    "from transformers.columns_setter_transformer import ColumnsSetterTransformer\n",
    "from transformers.extract_set_column_transformer import ExtractSetColumnsTransformer\n",
    "from transformers.name_dropper_transformer import NameDropperTransformer\n",
    "from transformers.select_transformer import SelectTransformer\n",
    "from transformers.select_rows_transformer import SelectRowsTransformer\n",
    "from transformers.series_from_group_transformer import SeriesFromGroupTransformer\n",
    "from transformers.map_set_transformer import MapSetTransformer\n",
    "from transformers.one_hot_encoder_transformer import OneHotEncoderTransformer\n",
    "from transformers.add_to_dict_transformer import AddToDictTransformer\n",
    "from transformers.get_from_dict_transformer import GetFromDictTransformer\n",
    "from transformers.select_pos_rows_transformer import SelectPosRowsTransformer\n",
    "from transformers.select_features_wrapper import SelectFeaturesWrapper\n",
    "importlib.reload(transformers)\n",
    "importlib.reload(transformers.columns_setter_transformer)\n",
    "importlib.reload(transformers.extract_set_column_transformer)\n",
    "importlib.reload(transformers.name_dropper_transformer)\n",
    "importlib.reload(transformers.select_transformer)\n",
    "importlib.reload(transformers.select_rows_transformer)\n",
    "importlib.reload(transformers.series_from_group_transformer)\n",
    "importlib.reload(transformers.map_set_transformer)\n",
    "importlib.reload(transformers.one_hot_encoder_transformer)\n",
    "importlib.reload(transformers.add_to_dict_transformer)\n",
    "importlib.reload(transformers.get_from_dict_transformer)\n",
    "importlib.reload(transformers.select_pos_rows_transformer)\n",
    "importlib.reload(transformers.select_features_wrapper)\n",
    "\n",
    "import functions\n",
    "from functions.bot_extractor import BotExtarctor\n",
    "from functions.is_bot_extractor import IsBotExtarctor\n",
    "importlib.reload(functions)\n",
    "importlib.reload(functions.is_bot_extractor)\n",
    "importlib.reload(functions.bot_extractor)\n",
    "\n",
    "import processors\n",
    "from processors.basic_pre_processor import BasicPreProcessor\n",
    "importlib.reload(processors)\n",
    "importlib.reload(processors.basic_pre_processor)\n",
    "\n",
    "import builders\n",
    "from builders.preprocessor_builder import PreprocessorBuilder\n",
    "from builders.reg_pipe_builder import RegPipeBuilder\n",
    "importlib.reload(builders)\n",
    "importlib.reload(builders.preprocessor_builder)\n",
    "importlib.reload(builders.reg_pipe_builder)\n",
    "\n",
    "import searcher\n",
    "import searcher_results_orgenizer\n",
    "from searcher import Searcher\n",
    "from searcher_results_orgenizer import SearcherResultsOrgenizer\n",
    "importlib.reload(searcher)\n",
    "importlib.reload(searcher_results_orgenizer)\n",
    "\n",
    "\n",
    "\n",
    "\n",
    "\n"
   ]
  },
  {
   "cell_type": "code",
   "execution_count": 4,
   "metadata": {},
   "outputs": [],
   "source": [
    "games = pd.read_csv('../data/games.csv', index_col='game_id')\n",
    "train = pd.read_csv('../data/train.csv', index_col='game_id')\n",
    "turns = pd.read_csv('../data/features_filtered.csv', index_col='game_id')"
   ]
  },
  {
   "cell_type": "code",
   "execution_count": 5,
   "metadata": {},
   "outputs": [],
   "source": [
    "G_NAME = 'games'\n",
    "T_NAME = 'turns'\n",
    "DATA_NAME = 'train'\n",
    "\n",
    "names = ['BetterBot', 'STEEBot', 'HastyBot']\n",
    "\n",
    "prePipe = Pipeline([\n",
    "                     ('get_relavent_games',  SelectRowsTransformer(train.index.unique(), target=G_NAME)),\n",
    "                     ('train_set_is_player', ExtractSetColumnsTransformer({'is_player': IsBotExtarctor(names, 'nickname', True)},\n",
    "                                                                           src=DATA_NAME, dest=DATA_NAME)),\n",
    "                     ('get_bot_rating', ExtractSetColumnsTransformer({'bot_rating': lambda train: train[~train['is_player']]['rating']},\n",
    "                                                                      src=DATA_NAME, dest=G_NAME)),\n",
    "                     ('get_bots_names', ExtractSetColumnsTransformer({'bot_name': lambda train: train[~train['is_player']]['nickname']},\n",
    "                                                                     src=DATA_NAME, dest=G_NAME)),\n",
    "                    ('data_drop_bot_rating', SelectPosRowsTransformer('is_player', target=DATA_NAME)),\n",
    "                    ])"
   ]
  },
  {
   "cell_type": "code",
   "execution_count": 6,
   "metadata": {},
   "outputs": [],
   "source": [
    "preprocessor = PreprocessorBuilder(games, G_NAME, turns, T_NAME, prePipe).build()\n",
    "n_games, n_turns, n_ratings = preprocessor.process(train, DATA_NAME)"
   ]
  },
  {
   "cell_type": "code",
   "execution_count": 7,
   "metadata": {},
   "outputs": [],
   "source": [
    "n_data = n_games.merge(n_turns, left_index=True, right_index=True)"
   ]
  },
  {
   "cell_type": "code",
   "execution_count": 8,
   "metadata": {},
   "outputs": [],
   "source": [
    "featureTransformers = [('extract_first', ColumnsSetterTransformer({'is_bot_first': IsBotExtarctor(names, name_col='first')})),\n",
    "                       ('hot', OneHotEncoderTransformer({'time_control_name': games['time_control_name'].unique(),\n",
    "                                                          'game_end_reason':  games['game_end_reason'].unique(),\n",
    "                                                          'lexicon':  games['lexicon'].unique(),\n",
    "                                                          'rating_mode':  games['rating_mode'].unique(),\n",
    "                                                          'bot_name': names}\n",
    "                                                        )),\n",
    "                       ('drops', NameDropperTransformer(['first', 'created_at', 'time_control_name', 'game_end_reason', 'lexicon', 'rating_mode', 'bot_name'])),                                              \n",
    "                      ]"
   ]
  },
  {
   "cell_type": "code",
   "execution_count": 9,
   "metadata": {},
   "outputs": [],
   "source": [
    "reg_pipe = Pipeline(featureTransformers)\n",
    "t_data = reg_pipe.transform(n_data)"
   ]
  },
  {
   "cell_type": "code",
   "execution_count": 10,
   "metadata": {},
   "outputs": [],
   "source": [
    "grid = {\n",
    "    'xgboost':\n",
    "    {\n",
    "    'estimator': XGBRegressor(random_state=0),\n",
    "    'param_grid':\n",
    "        {\n",
    "        },\n",
    "    'scores': ['neg_root_mean_squared_error']\n",
    "    },\n",
    "}"
   ]
  },
  {
   "cell_type": "code",
   "execution_count": 11,
   "metadata": {},
   "outputs": [],
   "source": [
    "# my_searcher = Searcher(reg_pipe, grid, 2, redo_scores=True)\n",
    "# my_searcher.search(n_data, n_ratings)"
   ]
  },
  {
   "cell_type": "code",
   "execution_count": 12,
   "metadata": {},
   "outputs": [],
   "source": [
    "# res = SearcherResultsOrgenizer(redo_scores=True).orgenize(my_searcher.get_results())"
   ]
  },
  {
   "cell_type": "code",
   "execution_count": 14,
   "metadata": {},
   "outputs": [
    {
     "data": {
      "text/html": [
       "<div>\n",
       "<style scoped>\n",
       "    .dataframe tbody tr th:only-of-type {\n",
       "        vertical-align: middle;\n",
       "    }\n",
       "\n",
       "    .dataframe tbody tr th {\n",
       "        vertical-align: top;\n",
       "    }\n",
       "\n",
       "    .dataframe thead th {\n",
       "        text-align: right;\n",
       "    }\n",
       "</style>\n",
       "<table border=\"1\" class=\"dataframe\">\n",
       "  <thead>\n",
       "    <tr style=\"text-align: right;\">\n",
       "      <th></th>\n",
       "      <th></th>\n",
       "      <th>mean_fit_time</th>\n",
       "      <th>std_fit_time</th>\n",
       "      <th>mean_score_time</th>\n",
       "      <th>std_score_time</th>\n",
       "      <th>split0_test_score</th>\n",
       "      <th>split1_test_score</th>\n",
       "      <th>split2_test_score</th>\n",
       "      <th>split3_test_score</th>\n",
       "      <th>split4_test_score</th>\n",
       "      <th>mean_test_score</th>\n",
       "      <th>std_test_score</th>\n",
       "    </tr>\n",
       "    <tr>\n",
       "      <th>model_name</th>\n",
       "      <th>scorer</th>\n",
       "      <th></th>\n",
       "      <th></th>\n",
       "      <th></th>\n",
       "      <th></th>\n",
       "      <th></th>\n",
       "      <th></th>\n",
       "      <th></th>\n",
       "      <th></th>\n",
       "      <th></th>\n",
       "      <th></th>\n",
       "      <th></th>\n",
       "    </tr>\n",
       "  </thead>\n",
       "  <tbody>\n",
       "    <tr>\n",
       "      <th>xgboost</th>\n",
       "      <th>neg_root_mean_squared_error</th>\n",
       "      <td>57.860744</td>\n",
       "      <td>8.760756</td>\n",
       "      <td>1.337651</td>\n",
       "      <td>0.21865</td>\n",
       "      <td>-112.310222</td>\n",
       "      <td>-112.802417</td>\n",
       "      <td>-114.831927</td>\n",
       "      <td>-113.71581</td>\n",
       "      <td>-110.332244</td>\n",
       "      <td>-112.798524</td>\n",
       "      <td>1.503139</td>\n",
       "    </tr>\n",
       "  </tbody>\n",
       "</table>\n",
       "</div>"
      ],
      "text/plain": [
       "                                        mean_fit_time  std_fit_time  \\\n",
       "model_name scorer                                                     \n",
       "xgboost    neg_root_mean_squared_error      57.860744      8.760756   \n",
       "\n",
       "                                        mean_score_time  std_score_time  \\\n",
       "model_name scorer                                                         \n",
       "xgboost    neg_root_mean_squared_error         1.337651         0.21865   \n",
       "\n",
       "                                        split0_test_score  split1_test_score  \\\n",
       "model_name scorer                                                              \n",
       "xgboost    neg_root_mean_squared_error        -112.310222        -112.802417   \n",
       "\n",
       "                                        split2_test_score  split3_test_score  \\\n",
       "model_name scorer                                                              \n",
       "xgboost    neg_root_mean_squared_error        -114.831927         -113.71581   \n",
       "\n",
       "                                        split4_test_score  mean_test_score  \\\n",
       "model_name scorer                                                            \n",
       "xgboost    neg_root_mean_squared_error        -110.332244      -112.798524   \n",
       "\n",
       "                                        std_test_score  \n",
       "model_name scorer                                       \n",
       "xgboost    neg_root_mean_squared_error        1.503139  "
      ]
     },
     "execution_count": 14,
     "metadata": {},
     "output_type": "execute_result"
    }
   ],
   "source": [
    "# res"
   ]
  },
  {
   "cell_type": "code",
   "execution_count": 106,
   "metadata": {},
   "outputs": [],
   "source": [
    "# thresholds = my_searcher.get_results()[('xgboost', 'neg_root_mean_squared_error')].best_estimator_[-1].feature_importances_\n",
    "# thresholds = np.sort(thresholds)\n",
    "# model =  my_searcher.get_results()[('xgboost', 'neg_root_mean_squared_error')].best_estimator_[-1]\n"
   ]
  },
  {
   "cell_type": "code",
   "execution_count": 24,
   "metadata": {},
   "outputs": [
    {
     "data": {
      "text/plain": [
       "array([0.        , 0.        , 0.        , 0.        , 0.        ,\n",
       "       0.        , 0.        , 0.        , 0.        , 0.        ,\n",
       "       0.        , 0.        , 0.        , 0.        , 0.        ,\n",
       "       0.        , 0.        , 0.        , 0.00084566, 0.00113591,\n",
       "       0.00130682, 0.00146642, 0.00162189, 0.00178969, 0.00194677,\n",
       "       0.0021806 , 0.00262951, 0.00440825, 0.0104104 ], dtype=float32)"
      ]
     },
     "execution_count": 24,
     "metadata": {},
     "output_type": "execute_result"
    }
   ],
   "source": [
    "# selection = SelectFromModel(model, threshold=0.1, prefit=True)"
   ]
  },
  {
   "cell_type": "code",
   "execution_count": null,
   "metadata": {},
   "outputs": [],
   "source": [
    "# for thresh in thresholds[::20]:\n",
    "#  # select features using threshold\n",
    "#  selection = SelectFromModel(model, threshold=thresh, prefit=True)\n",
    "#  select_X_train = selection.transform(X_train)\n",
    "#  # train model\n",
    "#  selection_model = XGBClassifier()\n",
    "#  selection_model.fit(select_X_train, y_train)\n",
    "#  # eval model\n",
    "#  select_X_test = selection.transform(X_test)\n",
    "#  predictions = selection_model.predict(select_X_test)\n",
    "#  accuracy = accuracy_score(y_test, predictions)\n",
    "#  print(\"Thresh=%.3f, n=%d, Accuracy: %.2f%%\" % (thresh, select_X_train.shape[1], accuracy*100.0))"
   ]
  },
  {
   "cell_type": "code",
   "execution_count": 118,
   "metadata": {},
   "outputs": [],
   "source": [
    "s_featureTransformers = [('extract_first', ColumnsSetterTransformer({'is_bot_first': IsBotExtarctor(names, name_col='first')})),\n",
    "                       ('hot', OneHotEncoderTransformer({'time_control_name': games['time_control_name'].unique(),\n",
    "                                                          'game_end_reason':  games['game_end_reason'].unique(),\n",
    "                                                          'lexicon':  games['lexicon'].unique(),\n",
    "                                                          'rating_mode':  games['rating_mode'].unique(),\n",
    "                                                          'bot_name': names}\n",
    "                                                        )),\n",
    "                       ('drops', NameDropperTransformer(['first', 'created_at', 'time_control_name', 'game_end_reason', 'lexicon', 'rating_mode', 'bot_name'])),\n",
    "                       ('selection', SelectFromModel(XGBRegressor(random_state=0))),\n",
    "                       ('xgboost', XGBRegressor(random_state=0))                                          \n",
    "                      ]\n",
    "\n",
    "s_reg_pipe = Pipeline(s_featureTransformers)\n"
   ]
  },
  {
   "cell_type": "code",
   "execution_count": 114,
   "metadata": {},
   "outputs": [
    {
     "data": {
      "text/plain": [
       "array([0.02389621, 0.0104104 , 0.00431157, 0.00703815, 0.00671391,\n",
       "       0.09814946, 0.00156412, 0.00684936, 0.00199115, 0.00528832,\n",
       "       0.0013184 , 0.00206186, 0.        , 0.00130369, 0.01497081,\n",
       "       0.00846764, 0.04549474, 0.01041721, 0.        , 0.00167858,\n",
       "       0.00227139, 0.        , 0.0073297 , 0.00179197, 0.00194404,\n",
       "       0.00158497, 0.00095647, 0.        , 0.        , 0.        ,\n",
       "       0.        , 0.        , 0.        , 0.        , 0.        ,\n",
       "       0.        , 0.        , 0.        , 0.        , 0.        ,\n",
       "       0.        , 0.        , 0.        , 0.        , 0.        ,\n",
       "       0.        , 0.        , 0.        , 0.        , 0.        ,\n",
       "       0.        , 0.        , 0.        , 0.        , 0.        ,\n",
       "       0.        , 0.        , 0.        , 0.        , 0.        ,\n",
       "       0.        , 0.        , 0.        , 0.        , 0.        ,\n",
       "       0.        , 0.        , 0.        , 0.        , 0.        ,\n",
       "       0.        , 0.        , 0.        , 0.        , 0.        ,\n",
       "       0.        , 0.        , 0.        , 0.        , 0.        ,\n",
       "       0.        , 0.        , 0.        , 0.        , 0.        ,\n",
       "       0.        , 0.        , 0.        , 0.        , 0.        ,\n",
       "       0.        , 0.        , 0.        , 0.        , 0.        ,\n",
       "       0.002103  , 0.00150545, 0.00160647, 0.00196646, 0.        ,\n",
       "       0.        , 0.00121027, 0.        , 0.00104116, 0.        ,\n",
       "       0.        , 0.        , 0.00155937, 0.00181178, 0.00237022,\n",
       "       0.00155513, 0.        , 0.00113591, 0.00123042, 0.00260079,\n",
       "       0.        , 0.00162189, 0.        , 0.        , 0.        ,\n",
       "       0.        , 0.00193546, 0.        , 0.        , 0.        ,\n",
       "       0.00117779, 0.00191319, 0.00218354, 0.0021806 , 0.00130108,\n",
       "       0.        , 0.00223417, 0.0016248 , 0.00216421, 0.        ,\n",
       "       0.00151543, 0.        , 0.00142295, 0.00140316, 0.00098768,\n",
       "       0.00190772, 0.        , 0.00218903, 0.00212096, 0.00203488,\n",
       "       0.00534007, 0.00253555, 0.00174261, 0.        , 0.        ,\n",
       "       0.        , 0.00213161, 0.00188018, 0.        , 0.00116811,\n",
       "       0.00146642, 0.0013614 , 0.        , 0.00154373, 0.        ,\n",
       "       0.00197892, 0.00164216, 0.00176113, 0.00292455, 0.        ,\n",
       "       0.00191846, 0.00117864, 0.        , 0.00165631, 0.        ,\n",
       "       0.        , 0.00148919, 0.00189991, 0.        , 0.00158957,\n",
       "       0.00144114, 0.00106075, 0.00117343, 0.        , 0.00159142,\n",
       "       0.        , 0.00181541, 0.        , 0.00146572, 0.001824  ,\n",
       "       0.        , 0.        , 0.09897903, 0.        , 0.        ,\n",
       "       0.        , 0.0021633 , 0.01041025, 0.00303246, 0.        ,\n",
       "       0.        , 0.        , 0.00126801, 0.        , 0.00160854,\n",
       "       0.0009826 , 0.00144073, 0.00697515, 0.00341804, 0.        ,\n",
       "       0.00204663, 0.        , 0.0013571 , 0.00440825, 0.        ,\n",
       "       0.        , 0.00087528, 0.0013517 , 0.00253268, 0.        ,\n",
       "       0.        , 0.        , 0.00131089, 0.00201207, 0.00128585,\n",
       "       0.00170702, 0.        , 0.00139057, 0.        , 0.00169117,\n",
       "       0.        , 0.00083288, 0.0018145 , 0.00087234, 0.        ,\n",
       "       0.        , 0.        , 0.        , 0.00108931, 0.00361898,\n",
       "       0.        , 0.        , 0.        , 0.00433022, 0.00440349,\n",
       "       0.        , 0.        , 0.        , 0.        , 0.00120736,\n",
       "       0.00078758, 0.        , 0.01293955, 0.        , 0.00128745,\n",
       "       0.        , 0.        , 0.00177837, 0.00169145, 0.00057674,\n",
       "       0.        , 0.        , 0.00303565, 0.        , 0.        ,\n",
       "       0.        , 0.00144287, 0.00158511, 0.        , 0.        ,\n",
       "       0.01868446, 0.        , 0.        , 0.        , 0.        ,\n",
       "       0.        , 0.        , 0.00168146, 0.        , 0.        ,\n",
       "       0.        , 0.00221022, 0.        , 0.        , 0.        ,\n",
       "       0.        , 0.        , 0.        , 0.        , 0.        ,\n",
       "       0.00086475, 0.        , 0.        , 0.        , 0.        ,\n",
       "       0.        , 0.00292227, 0.        , 0.        , 0.        ,\n",
       "       0.00229017, 0.        , 0.        , 0.00144793, 0.        ,\n",
       "       0.        , 0.        , 0.00269254, 0.        , 0.        ,\n",
       "       0.00083089, 0.        , 0.        , 0.        , 0.        ,\n",
       "       0.        , 0.00203693, 0.        , 0.00098618, 0.        ,\n",
       "       0.00203094, 0.        , 0.        , 0.        , 0.        ,\n",
       "       0.        , 0.        , 0.00198966, 0.        , 0.        ,\n",
       "       0.        , 0.        , 0.        , 0.00116588, 0.        ,\n",
       "       0.00194359, 0.        , 0.        , 0.0011372 , 0.        ,\n",
       "       0.        , 0.00540985, 0.00166491, 0.00084566, 0.        ,\n",
       "       0.0014889 , 0.        , 0.        , 0.        , 0.00173581,\n",
       "       0.        , 0.        , 0.0006548 , 0.        , 0.        ,\n",
       "       0.00091559, 0.        , 0.        , 0.        , 0.        ,\n",
       "       0.00105424, 0.        , 0.        , 0.        , 0.00194677,\n",
       "       0.00138683, 0.        , 0.        , 0.        , 0.        ,\n",
       "       0.        , 0.00132137, 0.00262951, 0.        , 0.        ,\n",
       "       0.00128885, 0.        , 0.        , 0.        , 0.00249988,\n",
       "       0.        , 0.00111802, 0.00205678, 0.        , 0.        ,\n",
       "       0.00146893, 0.00163001, 0.        , 0.00099665, 0.        ,\n",
       "       0.        , 0.        , 0.        , 0.00154956, 0.        ,\n",
       "       0.00214334, 0.00209279, 0.00053483, 0.        , 0.        ,\n",
       "       0.        , 0.00169875, 0.        , 0.00095723, 0.00407086,\n",
       "       0.        , 0.00230401, 0.00171172, 0.        , 0.        ,\n",
       "       0.        , 0.00249297, 0.        , 0.00134502, 0.        ,\n",
       "       0.00120805, 0.00268202, 0.        , 0.        , 0.        ,\n",
       "       0.        , 0.        , 0.00292739, 0.00156852, 0.00323866,\n",
       "       0.        , 0.        , 0.        , 0.00236568, 0.        ,\n",
       "       0.        , 0.        , 0.        , 0.00235196, 0.        ,\n",
       "       0.        , 0.        , 0.        , 0.        , 0.        ,\n",
       "       0.00206147, 0.        , 0.00107493, 0.        , 0.00096763,\n",
       "       0.        , 0.        , 0.        , 0.00142243, 0.        ,\n",
       "       0.        , 0.        , 0.00300943, 0.        , 0.0009856 ,\n",
       "       0.00173147, 0.        , 0.        , 0.        , 0.        ,\n",
       "       0.00115655, 0.        , 0.        , 0.        , 0.00441671,\n",
       "       0.        , 0.        , 0.00547481, 0.00129757, 0.        ,\n",
       "       0.        , 0.        , 0.00194628, 0.00139816, 0.        ,\n",
       "       0.00180092, 0.00260507, 0.        , 0.        , 0.        ,\n",
       "       0.        , 0.        , 0.        , 0.        , 0.00176484,\n",
       "       0.00040451, 0.        , 0.00186273, 0.        , 0.        ,\n",
       "       0.        , 0.        , 0.        , 0.        , 0.00117067,\n",
       "       0.00239309, 0.00040903, 0.00130682, 0.        , 0.        ,\n",
       "       0.        , 0.        , 0.        , 0.00309947, 0.        ,\n",
       "       0.        , 0.00149873, 0.        , 0.00140218, 0.        ,\n",
       "       0.00352651, 0.        , 0.        , 0.        , 0.        ,\n",
       "       0.00193118, 0.00096965, 0.        , 0.        , 0.        ,\n",
       "       0.00180993, 0.        , 0.        , 0.        , 0.        ,\n",
       "       0.        , 0.        , 0.        , 0.        , 0.        ,\n",
       "       0.        , 0.        , 0.        , 0.        , 0.00156083,\n",
       "       0.        , 0.        , 0.        , 0.00178969, 0.        ,\n",
       "       0.        , 0.        , 0.00169469, 0.        , 0.        ,\n",
       "       0.00313743, 0.00062096, 0.        , 0.0018272 , 0.        ,\n",
       "       0.        , 0.        , 0.        , 0.        , 0.0021816 ,\n",
       "       0.00837664, 0.00985458, 0.00488549, 0.00431388, 0.        ,\n",
       "       0.        , 0.00521219, 0.        , 0.00218978, 0.        ,\n",
       "       0.10821711, 0.        , 0.        , 0.00469307, 0.        ,\n",
       "       0.07854497, 0.        , 0.        , 0.00856355, 0.01303396,\n",
       "       0.00559139, 0.        ], dtype=float32)"
      ]
     },
     "execution_count": 114,
     "metadata": {},
     "output_type": "execute_result"
    }
   ],
   "source": [
    "model.feature_importances_"
   ]
  },
  {
   "cell_type": "code",
   "execution_count": 119,
   "metadata": {},
   "outputs": [],
   "source": [
    "parameters = {'selection__threshold': thresholds[::20]}"
   ]
  },
  {
   "cell_type": "code",
   "execution_count": 120,
   "metadata": {},
   "outputs": [],
   "source": [
    "clf = GridSearchCV(s_reg_pipe, parameters, n_jobs=4, scoring='neg_root_mean_squared_error')\n"
   ]
  },
  {
   "cell_type": "code",
   "execution_count": 121,
   "metadata": {},
   "outputs": [],
   "source": [
    "clf.fit(n_data, n_ratings)   "
   ]
  }
 ],
 "metadata": {
  "kernelspec": {
   "display_name": "venv",
   "language": "python",
   "name": "python3"
  },
  "language_info": {
   "codemirror_mode": {
    "name": "ipython",
    "version": 3
   },
   "file_extension": ".py",
   "mimetype": "text/x-python",
   "name": "python",
   "nbconvert_exporter": "python",
   "pygments_lexer": "ipython3",
   "version": "3.8.4"
  },
  "orig_nbformat": 4
 },
 "nbformat": 4,
 "nbformat_minor": 2
}
