{
 "cells": [
  {
   "cell_type": "code",
   "execution_count": 2,
   "metadata": {},
   "outputs": [],
   "source": [
    "import pandas as pd\n",
    "import sys\n",
    "import numpy as np\n",
    "import string\n",
    "import os\n",
    "from sklearn.model_selection import cross_validate\n",
    "from sklearn.ensemble import RandomForestRegressor\n",
    "from sklearn.model_selection import GridSearchCV\n",
    "from sklearn.feature_selection import SelectFromModel\n",
    "from sklearn.pipeline import Pipeline\n",
    "from sklearn.preprocessing import OneHotEncoder\n",
    "from sklearn.compose import make_column_transformer\n",
    "from tsfresh.feature_extraction import MinimalFCParameters\n",
    "\n",
    "\n",
    "import tsfresh\n",
    "from tsfresh.feature_extraction import extract_features\n",
    "\n",
    "from xgboost import XGBRegressor"
   ]
  },
  {
   "cell_type": "code",
   "execution_count": 3,
   "metadata": {},
   "outputs": [],
   "source": [
    "os.path.abspath('..')\n",
    "sys.path.append(os.path.abspath('..'))\n"
   ]
  },
  {
   "cell_type": "code",
   "execution_count": 4,
   "metadata": {},
   "outputs": [
    {
     "data": {
      "text/plain": [
       "<module 'searcher_results_orgenizer' from 'c:\\\\Users\\\\Bina4\\\\Desktop\\\\Guy_hafifa\\\\scrabble\\\\searcher_results_orgenizer.py'>"
      ]
     },
     "execution_count": 4,
     "metadata": {},
     "output_type": "execute_result"
    }
   ],
   "source": [
    "import importlib\n",
    "\n",
    "\n",
    "import board_helpers\n",
    "from board_helpers.move_info import MoveInfo\n",
    "from board_helpers.tiles_counter import TilesCounter\n",
    "from board_helpers.board_consts import TileType\n",
    "importlib.reload(board_helpers)\n",
    "importlib.reload(board_helpers.move_info)\n",
    "importlib.reload(board_helpers.tiles_counter)\n",
    "importlib.reload(board_helpers.board_consts)\n",
    "\n",
    "\n",
    "\n",
    "import transformers\n",
    "from transformers.columns_setter_transformer import ColumnsSetterTransformer\n",
    "from transformers.extract_set_column_transformer import ExtractSetColumnsTransformer\n",
    "from transformers.name_dropper_transformer import NameDropperTransformer\n",
    "from transformers.select_transformer import SelectTransformer\n",
    "from transformers.select_by_index_transformer import SelectByIndexTransformer\n",
    "from transformers.series_from_group_transformer import SeriesFromGroupTransformer\n",
    "from transformers.map_set_transformer import MapSetTransformer\n",
    "from transformers.one_hot_encoder_transformer import OneHotEncoderTransformer\n",
    "from transformers.add_to_dict_transformer import AddToDictTransformer\n",
    "from transformers.get_from_dict_transformer import GetFromDictTransformer\n",
    "from transformers.select_by_mask_transformer import SelectByMaskTransformer\n",
    "from transformers.select_features_wrapper import SelectFeaturesWrapper\n",
    "from transformers.my_turns_transformation import MyTurnsTransformation\n",
    "importlib.reload(transformers)\n",
    "importlib.reload(transformers.columns_setter_transformer)\n",
    "importlib.reload(transformers.extract_set_column_transformer)\n",
    "importlib.reload(transformers.name_dropper_transformer)\n",
    "importlib.reload(transformers.select_transformer)\n",
    "importlib.reload(transformers.select_by_index_transformer)\n",
    "importlib.reload(transformers.series_from_group_transformer)\n",
    "importlib.reload(transformers.map_set_transformer)\n",
    "importlib.reload(transformers.one_hot_encoder_transformer)\n",
    "importlib.reload(transformers.add_to_dict_transformer)\n",
    "importlib.reload(transformers.get_from_dict_transformer)\n",
    "importlib.reload(transformers.select_by_mask_transformer)\n",
    "importlib.reload(transformers.select_features_wrapper)\n",
    "importlib.reload(transformers.my_turns_transformation)\n",
    "\n",
    "\n",
    "import functions\n",
    "from functions.bot_extractor import BotExtarctor\n",
    "from functions.is_bot_extractor import IsBotExtarctor\n",
    "importlib.reload(functions)\n",
    "importlib.reload(functions.is_bot_extractor)\n",
    "importlib.reload(functions.bot_extractor)\n",
    "\n",
    "import processors\n",
    "from processors.basic_pre_processor import BasicPreProcessor\n",
    "importlib.reload(processors)\n",
    "importlib.reload(processors.basic_pre_processor)\n",
    "\n",
    "import builders\n",
    "from builders.preprocessor_builder import PreprocessorBuilder\n",
    "from builders.reg_pipe_builder import RegPipeBuilder\n",
    "importlib.reload(builders)\n",
    "importlib.reload(builders.preprocessor_builder)\n",
    "importlib.reload(builders.reg_pipe_builder)\n",
    "\n",
    "import searcher\n",
    "import searcher_results_orgenizer\n",
    "from searcher import Searcher\n",
    "from searcher_results_orgenizer import SearcherResultsOrgenizer\n",
    "importlib.reload(searcher)\n",
    "importlib.reload(searcher_results_orgenizer)\n",
    "\n",
    "\n",
    "\n",
    "\n",
    "\n"
   ]
  },
  {
   "attachments": {},
   "cell_type": "markdown",
   "metadata": {},
   "source": [
    "train model"
   ]
  },
  {
   "cell_type": "code",
   "execution_count": 5,
   "metadata": {},
   "outputs": [],
   "source": [
    "games = pd.read_csv('../data/games.csv', index_col='game_id')\n",
    "train = pd.read_csv('../data/train.csv', index_col='game_id')\n",
    "turns = pd.read_csv('../data/turns.csv', index_col='game_id')\n"
   ]
  },
  {
   "cell_type": "code",
   "execution_count": 6,
   "metadata": {},
   "outputs": [
    {
     "name": "stderr",
     "output_type": "stream",
     "text": [
      "Feature Extraction: 100%|██████████| 20/20 [02:33<00:00,  7.69s/it]\n",
      "Feature Extraction: 100%|██████████| 20/20 [02:08<00:00,  6.41s/it]\n",
      "Feature Extraction: 100%|██████████| 20/20 [02:20<00:00,  7.00s/it]\n"
     ]
    },
    {
     "data": {
      "text/html": [
       "<style>#sk-container-id-1 {color: black;background-color: white;}#sk-container-id-1 pre{padding: 0;}#sk-container-id-1 div.sk-toggleable {background-color: white;}#sk-container-id-1 label.sk-toggleable__label {cursor: pointer;display: block;width: 100%;margin-bottom: 0;padding: 0.3em;box-sizing: border-box;text-align: center;}#sk-container-id-1 label.sk-toggleable__label-arrow:before {content: \"▸\";float: left;margin-right: 0.25em;color: #696969;}#sk-container-id-1 label.sk-toggleable__label-arrow:hover:before {color: black;}#sk-container-id-1 div.sk-estimator:hover label.sk-toggleable__label-arrow:before {color: black;}#sk-container-id-1 div.sk-toggleable__content {max-height: 0;max-width: 0;overflow: hidden;text-align: left;background-color: #f0f8ff;}#sk-container-id-1 div.sk-toggleable__content pre {margin: 0.2em;color: black;border-radius: 0.25em;background-color: #f0f8ff;}#sk-container-id-1 input.sk-toggleable__control:checked~div.sk-toggleable__content {max-height: 200px;max-width: 100%;overflow: auto;}#sk-container-id-1 input.sk-toggleable__control:checked~label.sk-toggleable__label-arrow:before {content: \"▾\";}#sk-container-id-1 div.sk-estimator input.sk-toggleable__control:checked~label.sk-toggleable__label {background-color: #d4ebff;}#sk-container-id-1 div.sk-label input.sk-toggleable__control:checked~label.sk-toggleable__label {background-color: #d4ebff;}#sk-container-id-1 input.sk-hidden--visually {border: 0;clip: rect(1px 1px 1px 1px);clip: rect(1px, 1px, 1px, 1px);height: 1px;margin: -1px;overflow: hidden;padding: 0;position: absolute;width: 1px;}#sk-container-id-1 div.sk-estimator {font-family: monospace;background-color: #f0f8ff;border: 1px dotted black;border-radius: 0.25em;box-sizing: border-box;margin-bottom: 0.5em;}#sk-container-id-1 div.sk-estimator:hover {background-color: #d4ebff;}#sk-container-id-1 div.sk-parallel-item::after {content: \"\";width: 100%;border-bottom: 1px solid gray;flex-grow: 1;}#sk-container-id-1 div.sk-label:hover label.sk-toggleable__label {background-color: #d4ebff;}#sk-container-id-1 div.sk-serial::before {content: \"\";position: absolute;border-left: 1px solid gray;box-sizing: border-box;top: 0;bottom: 0;left: 50%;z-index: 0;}#sk-container-id-1 div.sk-serial {display: flex;flex-direction: column;align-items: center;background-color: white;padding-right: 0.2em;padding-left: 0.2em;position: relative;}#sk-container-id-1 div.sk-item {position: relative;z-index: 1;}#sk-container-id-1 div.sk-parallel {display: flex;align-items: stretch;justify-content: center;background-color: white;position: relative;}#sk-container-id-1 div.sk-item::before, #sk-container-id-1 div.sk-parallel-item::before {content: \"\";position: absolute;border-left: 1px solid gray;box-sizing: border-box;top: 0;bottom: 0;left: 50%;z-index: -1;}#sk-container-id-1 div.sk-parallel-item {display: flex;flex-direction: column;z-index: 1;position: relative;background-color: white;}#sk-container-id-1 div.sk-parallel-item:first-child::after {align-self: flex-end;width: 50%;}#sk-container-id-1 div.sk-parallel-item:last-child::after {align-self: flex-start;width: 50%;}#sk-container-id-1 div.sk-parallel-item:only-child::after {width: 0;}#sk-container-id-1 div.sk-dashed-wrapped {border: 1px dashed gray;margin: 0 0.4em 0.5em 0.4em;box-sizing: border-box;padding-bottom: 0.4em;background-color: white;}#sk-container-id-1 div.sk-label label {font-family: monospace;font-weight: bold;display: inline-block;line-height: 1.2em;}#sk-container-id-1 div.sk-label-container {text-align: center;}#sk-container-id-1 div.sk-container {/* jupyter's `normalize.less` sets `[hidden] { display: none; }` but bootstrap.min.css set `[hidden] { display: none !important; }` so we also need the `!important` here to be able to override the default hidden behavior on the sphinx rendered scikit-learn.org. See: https://github.com/scikit-learn/scikit-learn/issues/21755 */display: inline-block !important;position: relative;}#sk-container-id-1 div.sk-text-repr-fallback {display: none;}</style><div id=\"sk-container-id-1\" class=\"sk-top-container\"><div class=\"sk-text-repr-fallback\"><pre>Pipeline(steps=[(&#x27;extract_first&#x27;,\n",
       "                 ColumnsSetterTransformer(columns={&#x27;is_bot_first&#x27;: &lt;functions.is_bot_extractor.IsBotExtarctor object at 0x00000271FBFDB4F0&gt;})),\n",
       "                (&#x27;hot&#x27;,\n",
       "                 OneHotEncoderTransformer(columns={&#x27;bot_name&#x27;: [&#x27;BetterBot&#x27;,\n",
       "                                                                &#x27;STEEBot&#x27;,\n",
       "                                                                &#x27;HastyBot&#x27;],\n",
       "                                                   &#x27;game_end_reason&#x27;: array([&#x27;STANDARD&#x27;, &#x27;RESIGNED&#x27;, &#x27;TIME&#x27;, &#x27;CONSECUTIVE_ZEROES&#x27;], dtype=object),\n",
       "                                                   &#x27;lexicon&#x27;: array([&#x27;...\n",
       "                              grow_policy=None, importance_type=None,\n",
       "                              interaction_constraints=None,\n",
       "                              learning_rate=0.17320508075688773, max_bin=None,\n",
       "                              max_cat_threshold=None, max_cat_to_onehot=None,\n",
       "                              max_delta_step=None, max_depth=7, max_leaves=None,\n",
       "                              min_child_weight=1, missing=nan,\n",
       "                              monotone_constraints=None, n_estimators=100,\n",
       "                              n_jobs=None, num_parallel_tree=None,\n",
       "                              predictor=None, random_state=0, ...))])</pre><b>In a Jupyter environment, please rerun this cell to show the HTML representation or trust the notebook. <br />On GitHub, the HTML representation is unable to render, please try loading this page with nbviewer.org.</b></div><div class=\"sk-container\" hidden><div class=\"sk-item sk-dashed-wrapped\"><div class=\"sk-label-container\"><div class=\"sk-label sk-toggleable\"><input class=\"sk-toggleable__control sk-hidden--visually\" id=\"sk-estimator-id-1\" type=\"checkbox\" ><label for=\"sk-estimator-id-1\" class=\"sk-toggleable__label sk-toggleable__label-arrow\">Pipeline</label><div class=\"sk-toggleable__content\"><pre>Pipeline(steps=[(&#x27;extract_first&#x27;,\n",
       "                 ColumnsSetterTransformer(columns={&#x27;is_bot_first&#x27;: &lt;functions.is_bot_extractor.IsBotExtarctor object at 0x00000271FBFDB4F0&gt;})),\n",
       "                (&#x27;hot&#x27;,\n",
       "                 OneHotEncoderTransformer(columns={&#x27;bot_name&#x27;: [&#x27;BetterBot&#x27;,\n",
       "                                                                &#x27;STEEBot&#x27;,\n",
       "                                                                &#x27;HastyBot&#x27;],\n",
       "                                                   &#x27;game_end_reason&#x27;: array([&#x27;STANDARD&#x27;, &#x27;RESIGNED&#x27;, &#x27;TIME&#x27;, &#x27;CONSECUTIVE_ZEROES&#x27;], dtype=object),\n",
       "                                                   &#x27;lexicon&#x27;: array([&#x27;...\n",
       "                              grow_policy=None, importance_type=None,\n",
       "                              interaction_constraints=None,\n",
       "                              learning_rate=0.17320508075688773, max_bin=None,\n",
       "                              max_cat_threshold=None, max_cat_to_onehot=None,\n",
       "                              max_delta_step=None, max_depth=7, max_leaves=None,\n",
       "                              min_child_weight=1, missing=nan,\n",
       "                              monotone_constraints=None, n_estimators=100,\n",
       "                              n_jobs=None, num_parallel_tree=None,\n",
       "                              predictor=None, random_state=0, ...))])</pre></div></div></div><div class=\"sk-serial\"><div class=\"sk-item\"><div class=\"sk-estimator sk-toggleable\"><input class=\"sk-toggleable__control sk-hidden--visually\" id=\"sk-estimator-id-2\" type=\"checkbox\" ><label for=\"sk-estimator-id-2\" class=\"sk-toggleable__label sk-toggleable__label-arrow\">ColumnsSetterTransformer</label><div class=\"sk-toggleable__content\"><pre>ColumnsSetterTransformer(columns={&#x27;is_bot_first&#x27;: &lt;functions.is_bot_extractor.IsBotExtarctor object at 0x00000271FBFDB4F0&gt;})</pre></div></div></div><div class=\"sk-item\"><div class=\"sk-estimator sk-toggleable\"><input class=\"sk-toggleable__control sk-hidden--visually\" id=\"sk-estimator-id-3\" type=\"checkbox\" ><label for=\"sk-estimator-id-3\" class=\"sk-toggleable__label sk-toggleable__label-arrow\">OneHotEncoderTransformer</label><div class=\"sk-toggleable__content\"><pre>OneHotEncoderTransformer(columns={&#x27;bot_name&#x27;: [&#x27;BetterBot&#x27;, &#x27;STEEBot&#x27;,\n",
       "                                               &#x27;HastyBot&#x27;],\n",
       "                                  &#x27;game_end_reason&#x27;: array([&#x27;STANDARD&#x27;, &#x27;RESIGNED&#x27;, &#x27;TIME&#x27;, &#x27;CONSECUTIVE_ZEROES&#x27;], dtype=object),\n",
       "                                  &#x27;lexicon&#x27;: array([&#x27;NWL20&#x27;, &#x27;CSW21&#x27;, &#x27;ECWL&#x27;, &#x27;NSWL20&#x27;], dtype=object),\n",
       "                                  &#x27;rating_mode&#x27;: array([&#x27;CASUAL&#x27;, &#x27;RATED&#x27;], dtype=object),\n",
       "                                  &#x27;time_control_name&#x27;: array([&#x27;regular&#x27;, &#x27;rapid&#x27;, &#x27;blitz&#x27;, &#x27;ultrablitz&#x27;], dtype=object)})</pre></div></div></div><div class=\"sk-item\"><div class=\"sk-estimator sk-toggleable\"><input class=\"sk-toggleable__control sk-hidden--visually\" id=\"sk-estimator-id-4\" type=\"checkbox\" ><label for=\"sk-estimator-id-4\" class=\"sk-toggleable__label sk-toggleable__label-arrow\">SelectTransformer</label><div class=\"sk-toggleable__content\"><pre>SelectTransformer(selection=array([&#x27;initial_time_seconds&#x27;, &#x27;max_overtime_minutes&#x27;,\n",
       "       &#x27;game_duration_seconds&#x27;, &#x27;bot_rating&#x27;,\n",
       "       &#x27;a_turn_type_Challenge__mean&#x27;, &#x27;a_turn_type_Pass__sum_values&#x27;,\n",
       "       &#x27;a_turn_type_Timeout__mean&#x27;, &#x27;a_Z__mean&#x27;, &#x27;p_points__sum_values&#x27;,\n",
       "       &#x27;p_points__median&#x27;, &#x27;p_points__mean&#x27;, &#x27;p_points__root_mean_square&#x27;,\n",
       "       &#x27;p_score__root_mean_square&#x27;, &#x27;p_score__maxim...\n",
       "       &#x27;p_.__median&#x27;, &#x27;p_move_len__mean&#x27;, &#x27;p_move_len__root_mean_square&#x27;,\n",
       "       &#x27;p_jokers_num__sum_values&#x27;, &#x27;p_jokers_num__mean&#x27;,\n",
       "       &#x27;b_turn_type_End__mean&#x27;, &#x27;b_e__standard_deviation&#x27;, &#x27;b_l__mean&#x27;,\n",
       "       &#x27;b_move_len__sum_values&#x27;, &#x27;b_jokers_num__mean&#x27;,\n",
       "       &#x27;time_control_name_blitz&#x27;, &#x27;time_control_name_rapid&#x27;,\n",
       "       &#x27;time_control_name_regular&#x27;, &#x27;lexicon_CSW21&#x27;, &#x27;rating_mode_CASUAL&#x27;,\n",
       "       &#x27;bot_name_BetterBot&#x27;, &#x27;bot_name_HastyBot&#x27;], dtype=object))</pre></div></div></div><div class=\"sk-item\"><div class=\"sk-estimator sk-toggleable\"><input class=\"sk-toggleable__control sk-hidden--visually\" id=\"sk-estimator-id-5\" type=\"checkbox\" ><label for=\"sk-estimator-id-5\" class=\"sk-toggleable__label sk-toggleable__label-arrow\">XGBRegressor</label><div class=\"sk-toggleable__content\"><pre>XGBRegressor(base_score=None, booster=None, callbacks=None,\n",
       "             colsample_bylevel=None, colsample_bynode=None, colsample_bytree=1,\n",
       "             early_stopping_rounds=None, enable_categorical=False,\n",
       "             eval_metric=None, feature_types=None, gamma=0, gpu_id=None,\n",
       "             grow_policy=None, importance_type=None,\n",
       "             interaction_constraints=None, learning_rate=0.17320508075688773,\n",
       "             max_bin=None, max_cat_threshold=None, max_cat_to_onehot=None,\n",
       "             max_delta_step=None, max_depth=7, max_leaves=None,\n",
       "             min_child_weight=1, missing=nan, monotone_constraints=None,\n",
       "             n_estimators=100, n_jobs=None, num_parallel_tree=None,\n",
       "             predictor=None, random_state=0, ...)</pre></div></div></div></div></div></div></div>"
      ],
      "text/plain": [
       "Pipeline(steps=[('extract_first',\n",
       "                 ColumnsSetterTransformer(columns={'is_bot_first': <functions.is_bot_extractor.IsBotExtarctor object at 0x00000271FBFDB4F0>})),\n",
       "                ('hot',\n",
       "                 OneHotEncoderTransformer(columns={'bot_name': ['BetterBot',\n",
       "                                                                'STEEBot',\n",
       "                                                                'HastyBot'],\n",
       "                                                   'game_end_reason': array(['STANDARD', 'RESIGNED', 'TIME', 'CONSECUTIVE_ZEROES'], dtype=object),\n",
       "                                                   'lexicon': array(['...\n",
       "                              grow_policy=None, importance_type=None,\n",
       "                              interaction_constraints=None,\n",
       "                              learning_rate=0.17320508075688773, max_bin=None,\n",
       "                              max_cat_threshold=None, max_cat_to_onehot=None,\n",
       "                              max_delta_step=None, max_depth=7, max_leaves=None,\n",
       "                              min_child_weight=1, missing=nan,\n",
       "                              monotone_constraints=None, n_estimators=100,\n",
       "                              n_jobs=None, num_parallel_tree=None,\n",
       "                              predictor=None, random_state=0, ...))])"
      ]
     },
     "execution_count": 6,
     "metadata": {},
     "output_type": "execute_result"
    }
   ],
   "source": [
    "G_NAME = 'games'\n",
    "T_NAME = 'turns'\n",
    "DATA_NAME = 'train'\n",
    "\n",
    "names = ['BetterBot', 'STEEBot', 'HastyBot']\n",
    "\n",
    "features = np.load('../feature_selection_consts/columns.npy', allow_pickle=True)\n",
    "\n",
    "\n",
    "prePipe = Pipeline([\n",
    "                    ('get_relavent_turns', SelectByIndexTransformer(train.index.unique(), target=T_NAME)),\n",
    "                     ('get_relavent_games',  SelectByIndexTransformer(train.index.unique(), target=G_NAME)),\n",
    "                     ('train_set_is_player', ExtractSetColumnsTransformer({'is_player': IsBotExtarctor(names, 'nickname', True)},\n",
    "                                                                           src=DATA_NAME, dest=DATA_NAME)),\n",
    "                     ('get_bot_rating', ExtractSetColumnsTransformer({'bot_rating': lambda train: train[~train['is_player']]['rating']},\n",
    "                                                                      src=DATA_NAME, dest=G_NAME)),\n",
    "                     ('get_bots_names', ExtractSetColumnsTransformer({'bot_name': lambda train: train[~train['is_player']]['nickname']},\n",
    "                                                                     src=DATA_NAME, dest=G_NAME)),\n",
    "                    ('data_drop_bot_rating', SelectByMaskTransformer('is_player', target=DATA_NAME)),\n",
    "                    ])\n",
    "preprocessor = PreprocessorBuilder(games, G_NAME, turns, T_NAME, prePipe).build()\n",
    "n_games, n_turns, n_ratings = preprocessor.process(train, DATA_NAME)\n",
    "t_turns = MyTurnsTransformation().transform(n_turns) \n",
    "n_data = n_games.merge(t_turns, left_index=True, right_index=True)\n",
    "\n"
   ]
  },
  {
   "cell_type": "code",
   "execution_count": 30,
   "metadata": {},
   "outputs": [
    {
     "data": {
      "text/html": [
       "<style>#sk-container-id-2 {color: black;background-color: white;}#sk-container-id-2 pre{padding: 0;}#sk-container-id-2 div.sk-toggleable {background-color: white;}#sk-container-id-2 label.sk-toggleable__label {cursor: pointer;display: block;width: 100%;margin-bottom: 0;padding: 0.3em;box-sizing: border-box;text-align: center;}#sk-container-id-2 label.sk-toggleable__label-arrow:before {content: \"▸\";float: left;margin-right: 0.25em;color: #696969;}#sk-container-id-2 label.sk-toggleable__label-arrow:hover:before {color: black;}#sk-container-id-2 div.sk-estimator:hover label.sk-toggleable__label-arrow:before {color: black;}#sk-container-id-2 div.sk-toggleable__content {max-height: 0;max-width: 0;overflow: hidden;text-align: left;background-color: #f0f8ff;}#sk-container-id-2 div.sk-toggleable__content pre {margin: 0.2em;color: black;border-radius: 0.25em;background-color: #f0f8ff;}#sk-container-id-2 input.sk-toggleable__control:checked~div.sk-toggleable__content {max-height: 200px;max-width: 100%;overflow: auto;}#sk-container-id-2 input.sk-toggleable__control:checked~label.sk-toggleable__label-arrow:before {content: \"▾\";}#sk-container-id-2 div.sk-estimator input.sk-toggleable__control:checked~label.sk-toggleable__label {background-color: #d4ebff;}#sk-container-id-2 div.sk-label input.sk-toggleable__control:checked~label.sk-toggleable__label {background-color: #d4ebff;}#sk-container-id-2 input.sk-hidden--visually {border: 0;clip: rect(1px 1px 1px 1px);clip: rect(1px, 1px, 1px, 1px);height: 1px;margin: -1px;overflow: hidden;padding: 0;position: absolute;width: 1px;}#sk-container-id-2 div.sk-estimator {font-family: monospace;background-color: #f0f8ff;border: 1px dotted black;border-radius: 0.25em;box-sizing: border-box;margin-bottom: 0.5em;}#sk-container-id-2 div.sk-estimator:hover {background-color: #d4ebff;}#sk-container-id-2 div.sk-parallel-item::after {content: \"\";width: 100%;border-bottom: 1px solid gray;flex-grow: 1;}#sk-container-id-2 div.sk-label:hover label.sk-toggleable__label {background-color: #d4ebff;}#sk-container-id-2 div.sk-serial::before {content: \"\";position: absolute;border-left: 1px solid gray;box-sizing: border-box;top: 0;bottom: 0;left: 50%;z-index: 0;}#sk-container-id-2 div.sk-serial {display: flex;flex-direction: column;align-items: center;background-color: white;padding-right: 0.2em;padding-left: 0.2em;position: relative;}#sk-container-id-2 div.sk-item {position: relative;z-index: 1;}#sk-container-id-2 div.sk-parallel {display: flex;align-items: stretch;justify-content: center;background-color: white;position: relative;}#sk-container-id-2 div.sk-item::before, #sk-container-id-2 div.sk-parallel-item::before {content: \"\";position: absolute;border-left: 1px solid gray;box-sizing: border-box;top: 0;bottom: 0;left: 50%;z-index: -1;}#sk-container-id-2 div.sk-parallel-item {display: flex;flex-direction: column;z-index: 1;position: relative;background-color: white;}#sk-container-id-2 div.sk-parallel-item:first-child::after {align-self: flex-end;width: 50%;}#sk-container-id-2 div.sk-parallel-item:last-child::after {align-self: flex-start;width: 50%;}#sk-container-id-2 div.sk-parallel-item:only-child::after {width: 0;}#sk-container-id-2 div.sk-dashed-wrapped {border: 1px dashed gray;margin: 0 0.4em 0.5em 0.4em;box-sizing: border-box;padding-bottom: 0.4em;background-color: white;}#sk-container-id-2 div.sk-label label {font-family: monospace;font-weight: bold;display: inline-block;line-height: 1.2em;}#sk-container-id-2 div.sk-label-container {text-align: center;}#sk-container-id-2 div.sk-container {/* jupyter's `normalize.less` sets `[hidden] { display: none; }` but bootstrap.min.css set `[hidden] { display: none !important; }` so we also need the `!important` here to be able to override the default hidden behavior on the sphinx rendered scikit-learn.org. See: https://github.com/scikit-learn/scikit-learn/issues/21755 */display: inline-block !important;position: relative;}#sk-container-id-2 div.sk-text-repr-fallback {display: none;}</style><div id=\"sk-container-id-2\" class=\"sk-top-container\"><div class=\"sk-text-repr-fallback\"><pre>Pipeline(steps=[(&#x27;extract_first&#x27;,\n",
       "                 ColumnsSetterTransformer(columns={&#x27;is_bot_first&#x27;: &lt;functions.is_bot_extractor.IsBotExtarctor object at 0x00000271C3EFA4F0&gt;})),\n",
       "                (&#x27;hot&#x27;,\n",
       "                 OneHotEncoderTransformer(columns={&#x27;bot_name&#x27;: [&#x27;BetterBot&#x27;,\n",
       "                                                                &#x27;STEEBot&#x27;,\n",
       "                                                                &#x27;HastyBot&#x27;],\n",
       "                                                   &#x27;game_end_reason&#x27;: array([&#x27;STANDARD&#x27;, &#x27;RESIGNED&#x27;, &#x27;TIME&#x27;, &#x27;CONSECUTIVE_ZEROES&#x27;], dtype=object),\n",
       "                                                   &#x27;lexicon&#x27;: array([&#x27;...\n",
       "                              grow_policy=None, importance_type=None,\n",
       "                              interaction_constraints=None,\n",
       "                              learning_rate=0.17320508075688773, max_bin=None,\n",
       "                              max_cat_threshold=None, max_cat_to_onehot=None,\n",
       "                              max_delta_step=None, max_depth=7, max_leaves=None,\n",
       "                              min_child_weight=1, missing=nan,\n",
       "                              monotone_constraints=None, n_estimators=100,\n",
       "                              n_jobs=None, num_parallel_tree=None,\n",
       "                              predictor=None, random_state=0, ...))])</pre><b>In a Jupyter environment, please rerun this cell to show the HTML representation or trust the notebook. <br />On GitHub, the HTML representation is unable to render, please try loading this page with nbviewer.org.</b></div><div class=\"sk-container\" hidden><div class=\"sk-item sk-dashed-wrapped\"><div class=\"sk-label-container\"><div class=\"sk-label sk-toggleable\"><input class=\"sk-toggleable__control sk-hidden--visually\" id=\"sk-estimator-id-6\" type=\"checkbox\" ><label for=\"sk-estimator-id-6\" class=\"sk-toggleable__label sk-toggleable__label-arrow\">Pipeline</label><div class=\"sk-toggleable__content\"><pre>Pipeline(steps=[(&#x27;extract_first&#x27;,\n",
       "                 ColumnsSetterTransformer(columns={&#x27;is_bot_first&#x27;: &lt;functions.is_bot_extractor.IsBotExtarctor object at 0x00000271C3EFA4F0&gt;})),\n",
       "                (&#x27;hot&#x27;,\n",
       "                 OneHotEncoderTransformer(columns={&#x27;bot_name&#x27;: [&#x27;BetterBot&#x27;,\n",
       "                                                                &#x27;STEEBot&#x27;,\n",
       "                                                                &#x27;HastyBot&#x27;],\n",
       "                                                   &#x27;game_end_reason&#x27;: array([&#x27;STANDARD&#x27;, &#x27;RESIGNED&#x27;, &#x27;TIME&#x27;, &#x27;CONSECUTIVE_ZEROES&#x27;], dtype=object),\n",
       "                                                   &#x27;lexicon&#x27;: array([&#x27;...\n",
       "                              grow_policy=None, importance_type=None,\n",
       "                              interaction_constraints=None,\n",
       "                              learning_rate=0.17320508075688773, max_bin=None,\n",
       "                              max_cat_threshold=None, max_cat_to_onehot=None,\n",
       "                              max_delta_step=None, max_depth=7, max_leaves=None,\n",
       "                              min_child_weight=1, missing=nan,\n",
       "                              monotone_constraints=None, n_estimators=100,\n",
       "                              n_jobs=None, num_parallel_tree=None,\n",
       "                              predictor=None, random_state=0, ...))])</pre></div></div></div><div class=\"sk-serial\"><div class=\"sk-item\"><div class=\"sk-estimator sk-toggleable\"><input class=\"sk-toggleable__control sk-hidden--visually\" id=\"sk-estimator-id-7\" type=\"checkbox\" ><label for=\"sk-estimator-id-7\" class=\"sk-toggleable__label sk-toggleable__label-arrow\">ColumnsSetterTransformer</label><div class=\"sk-toggleable__content\"><pre>ColumnsSetterTransformer(columns={&#x27;is_bot_first&#x27;: &lt;functions.is_bot_extractor.IsBotExtarctor object at 0x00000271C3EFA4F0&gt;})</pre></div></div></div><div class=\"sk-item\"><div class=\"sk-estimator sk-toggleable\"><input class=\"sk-toggleable__control sk-hidden--visually\" id=\"sk-estimator-id-8\" type=\"checkbox\" ><label for=\"sk-estimator-id-8\" class=\"sk-toggleable__label sk-toggleable__label-arrow\">OneHotEncoderTransformer</label><div class=\"sk-toggleable__content\"><pre>OneHotEncoderTransformer(columns={&#x27;bot_name&#x27;: [&#x27;BetterBot&#x27;, &#x27;STEEBot&#x27;,\n",
       "                                               &#x27;HastyBot&#x27;],\n",
       "                                  &#x27;game_end_reason&#x27;: array([&#x27;STANDARD&#x27;, &#x27;RESIGNED&#x27;, &#x27;TIME&#x27;, &#x27;CONSECUTIVE_ZEROES&#x27;], dtype=object),\n",
       "                                  &#x27;lexicon&#x27;: array([&#x27;NWL20&#x27;, &#x27;CSW21&#x27;, &#x27;ECWL&#x27;, &#x27;NSWL20&#x27;], dtype=object),\n",
       "                                  &#x27;rating_mode&#x27;: array([&#x27;CASUAL&#x27;, &#x27;RATED&#x27;], dtype=object),\n",
       "                                  &#x27;time_control_name&#x27;: array([&#x27;regular&#x27;, &#x27;rapid&#x27;, &#x27;blitz&#x27;, &#x27;ultrablitz&#x27;], dtype=object)})</pre></div></div></div><div class=\"sk-item\"><div class=\"sk-estimator sk-toggleable\"><input class=\"sk-toggleable__control sk-hidden--visually\" id=\"sk-estimator-id-9\" type=\"checkbox\" ><label for=\"sk-estimator-id-9\" class=\"sk-toggleable__label sk-toggleable__label-arrow\">SelectTransformer</label><div class=\"sk-toggleable__content\"><pre>SelectTransformer(selection=array([&#x27;initial_time_seconds&#x27;, &#x27;max_overtime_minutes&#x27;,\n",
       "       &#x27;game_duration_seconds&#x27;, &#x27;bot_rating&#x27;,\n",
       "       &#x27;a_turn_type_Challenge__mean&#x27;, &#x27;a_turn_type_Pass__sum_values&#x27;,\n",
       "       &#x27;a_turn_type_Timeout__mean&#x27;, &#x27;a_Z__mean&#x27;, &#x27;p_points__sum_values&#x27;,\n",
       "       &#x27;p_points__median&#x27;, &#x27;p_points__mean&#x27;, &#x27;p_points__root_mean_square&#x27;,\n",
       "       &#x27;p_score__root_mean_square&#x27;, &#x27;p_score__maxim...\n",
       "       &#x27;p_.__median&#x27;, &#x27;p_move_len__mean&#x27;, &#x27;p_move_len__root_mean_square&#x27;,\n",
       "       &#x27;p_jokers_num__sum_values&#x27;, &#x27;p_jokers_num__mean&#x27;,\n",
       "       &#x27;b_turn_type_End__mean&#x27;, &#x27;b_e__standard_deviation&#x27;, &#x27;b_l__mean&#x27;,\n",
       "       &#x27;b_move_len__sum_values&#x27;, &#x27;b_jokers_num__mean&#x27;,\n",
       "       &#x27;time_control_name_blitz&#x27;, &#x27;time_control_name_rapid&#x27;,\n",
       "       &#x27;time_control_name_regular&#x27;, &#x27;lexicon_CSW21&#x27;, &#x27;rating_mode_CASUAL&#x27;,\n",
       "       &#x27;bot_name_BetterBot&#x27;, &#x27;bot_name_HastyBot&#x27;], dtype=object))</pre></div></div></div><div class=\"sk-item\"><div class=\"sk-estimator sk-toggleable\"><input class=\"sk-toggleable__control sk-hidden--visually\" id=\"sk-estimator-id-10\" type=\"checkbox\" ><label for=\"sk-estimator-id-10\" class=\"sk-toggleable__label sk-toggleable__label-arrow\">NameDropperTransformer</label><div class=\"sk-toggleable__content\"><pre>NameDropperTransformer(columns=[&#x27;bot_rating&#x27;])</pre></div></div></div><div class=\"sk-item\"><div class=\"sk-estimator sk-toggleable\"><input class=\"sk-toggleable__control sk-hidden--visually\" id=\"sk-estimator-id-11\" type=\"checkbox\" ><label for=\"sk-estimator-id-11\" class=\"sk-toggleable__label sk-toggleable__label-arrow\">XGBRegressor</label><div class=\"sk-toggleable__content\"><pre>XGBRegressor(base_score=None, booster=None, callbacks=None,\n",
       "             colsample_bylevel=None, colsample_bynode=None, colsample_bytree=1,\n",
       "             early_stopping_rounds=None, enable_categorical=False,\n",
       "             eval_metric=None, feature_types=None, gamma=0, gpu_id=None,\n",
       "             grow_policy=None, importance_type=None,\n",
       "             interaction_constraints=None, learning_rate=0.17320508075688773,\n",
       "             max_bin=None, max_cat_threshold=None, max_cat_to_onehot=None,\n",
       "             max_delta_step=None, max_depth=7, max_leaves=None,\n",
       "             min_child_weight=1, missing=nan, monotone_constraints=None,\n",
       "             n_estimators=100, n_jobs=None, num_parallel_tree=None,\n",
       "             predictor=None, random_state=0, ...)</pre></div></div></div></div></div></div></div>"
      ],
      "text/plain": [
       "Pipeline(steps=[('extract_first',\n",
       "                 ColumnsSetterTransformer(columns={'is_bot_first': <functions.is_bot_extractor.IsBotExtarctor object at 0x00000271C3EFA4F0>})),\n",
       "                ('hot',\n",
       "                 OneHotEncoderTransformer(columns={'bot_name': ['BetterBot',\n",
       "                                                                'STEEBot',\n",
       "                                                                'HastyBot'],\n",
       "                                                   'game_end_reason': array(['STANDARD', 'RESIGNED', 'TIME', 'CONSECUTIVE_ZEROES'], dtype=object),\n",
       "                                                   'lexicon': array(['...\n",
       "                              grow_policy=None, importance_type=None,\n",
       "                              interaction_constraints=None,\n",
       "                              learning_rate=0.17320508075688773, max_bin=None,\n",
       "                              max_cat_threshold=None, max_cat_to_onehot=None,\n",
       "                              max_delta_step=None, max_depth=7, max_leaves=None,\n",
       "                              min_child_weight=1, missing=nan,\n",
       "                              monotone_constraints=None, n_estimators=100,\n",
       "                              n_jobs=None, num_parallel_tree=None,\n",
       "                              predictor=None, random_state=0, ...))])"
      ]
     },
     "execution_count": 30,
     "metadata": {},
     "output_type": "execute_result"
    }
   ],
   "source": [
    "regressor_steps = [('extract_first', ColumnsSetterTransformer({'is_bot_first': IsBotExtarctor(names, name_col='first')})),\n",
    "                       ('hot', OneHotEncoderTransformer({'time_control_name': games['time_control_name'].unique(),\n",
    "                                                          'game_end_reason':  games['game_end_reason'].unique(),\n",
    "                                                          'lexicon':  games['lexicon'].unique(),\n",
    "                                                          'rating_mode':  games['rating_mode'].unique(),\n",
    "                                                          'bot_name': names}\n",
    "                                                        )),\n",
    "                       ('select_col', SelectTransformer(features)),\n",
    "                       ('drop_bot_rating', NameDropperTransformer(['bot_rating'])),\n",
    "                       ('xgb', XGBRegressor(random_state=0,\n",
    "                              max_depth=7, min_child_weight=1,\n",
    "                              gamma=0,\n",
    "                              subsample=1, colsample_bytree=1,\n",
    "                              reg_alpha=0.00005, reg_lambda=1,\n",
    "                              learning_rate=np.sqrt(3)/10\n",
    "                              ),)                                           \n",
    "                      ]\n",
    "\n",
    "regressor = Pipeline(regressor_steps)\n",
    "regressor.fit(n_data, n_ratings)"
   ]
  },
  {
   "attachments": {},
   "cell_type": "markdown",
   "metadata": {},
   "source": [
    "predict:"
   ]
  },
  {
   "cell_type": "code",
   "execution_count": 8,
   "metadata": {},
   "outputs": [],
   "source": [
    "test = pd.read_csv('../data/test.csv', index_col='game_id')"
   ]
  },
  {
   "cell_type": "code",
   "execution_count": 12,
   "metadata": {},
   "outputs": [
    {
     "data": {
      "text/plain": [
       "22363"
      ]
     },
     "execution_count": 12,
     "metadata": {},
     "output_type": "execute_result"
    }
   ],
   "source": [
    "test['rating'].isna().sum()"
   ]
  },
  {
   "cell_type": "code",
   "execution_count": 18,
   "metadata": {},
   "outputs": [
    {
     "name": "stderr",
     "output_type": "stream",
     "text": [
      "Feature Extraction: 100%|██████████| 20/20 [01:12<00:00,  3.61s/it]\n",
      "Feature Extraction: 100%|██████████| 20/20 [00:52<00:00,  2.64s/it]\n",
      "Feature Extraction: 100%|██████████| 20/20 [00:52<00:00,  2.61s/it]\n"
     ]
    }
   ],
   "source": [
    "test_pre_pipe = Pipeline([\n",
    "                    ('get_relavent_turns', SelectByIndexTransformer(test.index.unique(), target=T_NAME)),\n",
    "                     ('get_relavent_games',  SelectByIndexTransformer(test.index.unique(), target=G_NAME)),\n",
    "                     ('train_set_is_player', ExtractSetColumnsTransformer({'is_player': IsBotExtarctor(names, 'nickname', True)},\n",
    "                                                                           src=DATA_NAME, dest=DATA_NAME)),\n",
    "                     ('get_bot_rating', ExtractSetColumnsTransformer({'bot_rating': lambda train: train[~train['is_player']]['rating']},\n",
    "                                                                      src=DATA_NAME, dest=G_NAME)),\n",
    "                     ('get_bots_names', ExtractSetColumnsTransformer({'bot_name': lambda train: train[~train['is_player']]['nickname']},\n",
    "                                                                     src=DATA_NAME, dest=G_NAME)),\n",
    "                    ('data_drop_bot_rating', SelectByMaskTransformer('is_player', target=DATA_NAME)),\n",
    "                    ])\n",
    "test_preprocessor = PreprocessorBuilder(games, G_NAME, turns, T_NAME, test_pre_pipe).build()\n",
    "test_n_games, test_n_turns, test_n_ratings = test_preprocessor.process(test, DATA_NAME)\n",
    "test_t_turns = MyTurnsTransformation().transform(test_n_turns) \n",
    "test_n_data = test_n_games.merge(test_t_turns, left_index=True, right_index=True)"
   ]
  },
  {
   "cell_type": "code",
   "execution_count": 31,
   "metadata": {},
   "outputs": [],
   "source": [
    "prediction = pd.Series(regressor.predict(test_n_data), index=test_n_data.index, name='rating')"
   ]
  },
  {
   "cell_type": "code",
   "execution_count": 32,
   "metadata": {},
   "outputs": [],
   "source": [
    "prediction.to_csv('../data/submission.csv', index_label='game_id')"
   ]
  }
 ],
 "metadata": {
  "kernelspec": {
   "display_name": "venv",
   "language": "python",
   "name": "python3"
  },
  "language_info": {
   "codemirror_mode": {
    "name": "ipython",
    "version": 3
   },
   "file_extension": ".py",
   "mimetype": "text/x-python",
   "name": "python",
   "nbconvert_exporter": "python",
   "pygments_lexer": "ipython3",
   "version": "3.8.4"
  },
  "orig_nbformat": 4
 },
 "nbformat": 4,
 "nbformat_minor": 2
}
